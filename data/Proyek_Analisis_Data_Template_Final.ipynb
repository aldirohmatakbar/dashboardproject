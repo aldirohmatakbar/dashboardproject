{
 "cells": [
  {
   "cell_type": "markdown",
   "id": "1cce4851",
   "metadata": {},
   "source": [
    "\n",
    "# Proyek Analisis Data: Bike Sharing Dataset\n",
    "- **Nama:** [Input Nama Anda]\n",
    "- **Email:** [Input Email Anda]\n",
    "- **ID Dicoding:** [Input ID Dicoding Anda]\n"
   ]
  },
  {
   "cell_type": "markdown",
   "id": "1e72a327",
   "metadata": {},
   "source": [
    "\n",
    "## Menentukan Pertanyaan Bisnis\n",
    "- Pertanyaan 1: Bagaimana pengaruh cuaca terhadap jumlah penggunaan sepeda?\n",
    "- Pertanyaan 2: Apakah ada pola musiman dalam penggunaan sepeda?\n"
   ]
  },
  {
   "cell_type": "markdown",
   "id": "83989213",
   "metadata": {},
   "source": [
    "\n",
    "## Import Semua Packages/Library yang Digunakan\n"
   ]
  },
  {
   "cell_type": "code",
   "execution_count": null,
   "id": "a4f71de6",
   "metadata": {},
   "outputs": [],
   "source": [
    "\n",
    "# Importing necessary libraries\n",
    "import pandas as pd\n",
    "import matplotlib.pyplot as plt\n",
    "\n",
    "# Load the datasets\n",
    "day_df = pd.read_csv('/mnt/data/unzipped_folder/day.csv')\n",
    "hour_df = pd.read_csv('/mnt/data/unzipped_folder/hour.csv')\n",
    "\n",
    "# Convert 'dteday' column to datetime format\n",
    "day_df['dteday'] = pd.to_datetime(day_df['dteday'])\n",
    "hour_df['dteday'] = pd.to_datetime(hour_df['dteday'])\n",
    "\n",
    "day_df.head(), hour_df.head()\n"
   ]
  },
  {
   "cell_type": "markdown",
   "id": "a7353c2a",
   "metadata": {},
   "source": [
    "\n",
    "## Analisis Cuaca dan Pengaruhnya Terhadap Penggunaan Sepeda\n",
    "Kita akan menganalisis bagaimana kondisi cuaca mempengaruhi jumlah pengguna sepeda.\n"
   ]
  },
  {
   "cell_type": "code",
   "execution_count": null,
   "id": "1e8e8fc1",
   "metadata": {},
   "outputs": [],
   "source": [
    "\n",
    "# Grouping by 'weathersit' to calculate the average number of users (casual, registered, and total) for each weather condition\n",
    "weather_analysis_day = day_df.groupby('weathersit').agg(\n",
    "    avg_casual=('casual', 'mean'),\n",
    "    avg_registered=('registered', 'mean'),\n",
    "    avg_total=('cnt', 'mean')\n",
    ").reset_index()\n",
    "\n",
    "# Visualize the impact of weather\n",
    "plt.figure(figsize=(10, 6))\n",
    "plt.bar(weather_analysis_day['weathersit'], weather_analysis_day['avg_total'], color=['skyblue', 'orange', 'red'])\n",
    "plt.title('Average Total Bike Usage by Weather Condition', fontsize=14)\n",
    "plt.xlabel('Weather Condition (1: Clear, 2: Mist, 3: Light Rain/Snow)', fontsize=12)\n",
    "plt.ylabel('Average Total Bike Usage', fontsize=12)\n",
    "plt.xticks(weather_analysis_day['weathersit'], ['Clear', 'Mist', 'Rain/Snow'], rotation=0)\n",
    "plt.show()\n"
   ]
  },
  {
   "cell_type": "markdown",
   "id": "f5032b74",
   "metadata": {},
   "source": [
    "\n",
    "## Analisis Pola Musiman dalam Penggunaan Sepeda\n",
    "Selanjutnya, kita akan menganalisis bagaimana penggunaan sepeda bervariasi berdasarkan musim (season).\n"
   ]
  },
  {
   "cell_type": "code",
   "execution_count": null,
   "id": "c670587c",
   "metadata": {},
   "outputs": [],
   "source": [
    "\n",
    "# Analyzing the usage of bikes by season to detect seasonal patterns\n",
    "season_analysis_day = day_df.groupby('season').agg(\n",
    "    avg_casual=('casual', 'mean'),\n",
    "    avg_registered=('registered', 'mean'),\n",
    "    avg_total=('cnt', 'mean')\n",
    ").reset_index()\n",
    "\n",
    "# Map season values to their respective names\n",
    "season_mapping = {1: 'Winter', 2: 'Spring', 3: 'Summer', 4: 'Fall'}\n",
    "season_analysis_day['season'] = season_analysis_day['season'].map(season_mapping)\n",
    "\n",
    "# Visualize the seasonal bike usage\n",
    "plt.figure(figsize=(10, 6))\n",
    "plt.bar(season_analysis_day['season'], season_analysis_day['avg_total'], color=['blue', 'green', 'yellow', 'orange'])\n",
    "plt.title('Average Total Bike Usage by Season', fontsize=14)\n",
    "plt.xlabel('Season', fontsize=12)\n",
    "plt.ylabel('Average Total Bike Usage', fontsize=12)\n",
    "plt.show()\n"
   ]
  }
 ],
 "metadata": {},
 "nbformat": 4,
 "nbformat_minor": 5
}
